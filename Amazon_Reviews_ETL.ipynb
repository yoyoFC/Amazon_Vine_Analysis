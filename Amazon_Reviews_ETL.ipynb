{
  "nbformat": 4,
  "nbformat_minor": 0,
  "metadata": {
    "colab": {
      "name": "Amazon_Reviews_ETL.ipynb",
      "provenance": [],
      "collapsed_sections": [],
      "include_colab_link": true
    },
    "kernelspec": {
      "name": "python3",
      "display_name": "Python 3"
    },
    "nteract": {
      "version": "0.12.3"
    },
    "language_info": {
      "name": "python"
    }
  },
  "cells": [
    {
      "cell_type": "markdown",
      "metadata": {
        "id": "view-in-github",
        "colab_type": "text"
      },
      "source": [
        "<a href=\"https://colab.research.google.com/github/yoyoFC/Amazon_Vine_Analysis/blob/main/Amazon_Reviews_ETL.ipynb\" target=\"_parent\"><img src=\"https://colab.research.google.com/assets/colab-badge.svg\" alt=\"Open In Colab\"/></a>"
      ]
    },
    {
      "cell_type": "code",
      "metadata": {
        "id": "V58rxea0HqSa",
        "colab": {
          "base_uri": "https://localhost:8080/"
        },
        "outputId": "05a49e3d-63af-4a06-c75e-c93e585018a0"
      },
      "source": [
        "import os\n",
        "# Find the latest version of spark 3.0 from http://www.apache.org/dist/spark/ and enter as the spark version\n",
        "# For example:\n",
        "# spark_version = 'spark-3.0.3'\n",
        "spark_version = 'spark-3.2.0'\n",
        "os.environ['SPARK_VERSION']=spark_version\n",
        "\n",
        "# Install Spark and Java\n",
        "!apt-get update\n",
        "!apt-get install openjdk-11-jdk-headless -qq > /dev/null\n",
        "!wget -q http://www.apache.org/dist/spark/$SPARK_VERSION/$SPARK_VERSION-bin-hadoop2.7.tgz\n",
        "!tar xf $SPARK_VERSION-bin-hadoop2.7.tgz\n",
        "!pip install -q findspark\n",
        "\n",
        "# Set Environment Variables\n",
        "import os\n",
        "os.environ[\"JAVA_HOME\"] = \"/usr/lib/jvm/java-11-openjdk-amd64\"\n",
        "os.environ[\"SPARK_HOME\"] = f\"/content/{spark_version}-bin-hadoop2.7\"\n",
        "\n",
        "# Start a SparkSession\n",
        "import findspark\n",
        "findspark.init()"
      ],
      "execution_count": 1,
      "outputs": [
        {
          "output_type": "stream",
          "name": "stdout",
          "text": [
            "\r0% [Working]\r            \rIgn:1 https://developer.download.nvidia.com/compute/cuda/repos/ubuntu1804/x86_64  InRelease\n",
            "Ign:2 https://developer.download.nvidia.com/compute/machine-learning/repos/ubuntu1804/x86_64  InRelease\n",
            "Hit:3 https://developer.download.nvidia.com/compute/cuda/repos/ubuntu1804/x86_64  Release\n",
            "Hit:4 https://developer.download.nvidia.com/compute/machine-learning/repos/ubuntu1804/x86_64  Release\n",
            "Get:6 http://security.ubuntu.com/ubuntu bionic-security InRelease [88.7 kB]\n",
            "Hit:7 http://archive.ubuntu.com/ubuntu bionic InRelease\n",
            "Get:8 http://ppa.launchpad.net/c2d4u.team/c2d4u4.0+/ubuntu bionic InRelease [15.9 kB]\n",
            "Get:9 http://archive.ubuntu.com/ubuntu bionic-updates InRelease [88.7 kB]\n",
            "Get:11 https://cloud.r-project.org/bin/linux/ubuntu bionic-cran40/ InRelease [3,626 B]\n",
            "Hit:12 http://ppa.launchpad.net/cran/libgit2/ubuntu bionic InRelease\n",
            "Get:13 http://archive.ubuntu.com/ubuntu bionic-backports InRelease [74.6 kB]\n",
            "Get:14 https://cloud.r-project.org/bin/linux/ubuntu bionic-cran40/ Packages [73.9 kB]\n",
            "Get:15 http://ppa.launchpad.net/deadsnakes/ppa/ubuntu bionic InRelease [15.9 kB]\n",
            "Get:16 http://security.ubuntu.com/ubuntu bionic-security/restricted amd64 Packages [691 kB]\n",
            "Hit:17 http://ppa.launchpad.net/graphics-drivers/ppa/ubuntu bionic InRelease\n",
            "Get:18 http://archive.ubuntu.com/ubuntu bionic-updates/main amd64 Packages [2,898 kB]\n",
            "Get:19 http://ppa.launchpad.net/c2d4u.team/c2d4u4.0+/ubuntu bionic/main Sources [1,820 kB]\n",
            "Get:20 http://security.ubuntu.com/ubuntu bionic-security/universe amd64 Packages [1,450 kB]\n",
            "Get:21 http://security.ubuntu.com/ubuntu bionic-security/main amd64 Packages [2,461 kB]\n",
            "Get:22 http://archive.ubuntu.com/ubuntu bionic-updates/universe amd64 Packages [2,228 kB]\n",
            "Get:23 http://ppa.launchpad.net/c2d4u.team/c2d4u4.0+/ubuntu bionic/main amd64 Packages [933 kB]\n",
            "Get:24 http://ppa.launchpad.net/deadsnakes/ppa/ubuntu bionic/main amd64 Packages [45.9 kB]\n",
            "Fetched 12.9 MB in 4s (2,958 kB/s)\n",
            "Reading package lists... Done\n"
          ]
        }
      ]
    },
    {
      "cell_type": "code",
      "metadata": {
        "id": "_xKwTpATHqSe",
        "colab": {
          "base_uri": "https://localhost:8080/"
        },
        "outputId": "8b32defe-13e0-4662-c437-3c34bcfaaf0f"
      },
      "source": [
        "# Download the Postgres driver that will allow Spark to interact with Postgres.\n",
        "!wget https://jdbc.postgresql.org/download/postgresql-42.2.16.jar"
      ],
      "execution_count": 2,
      "outputs": [
        {
          "output_type": "stream",
          "name": "stdout",
          "text": [
            "--2021-12-13 00:10:42--  https://jdbc.postgresql.org/download/postgresql-42.2.16.jar\n",
            "Resolving jdbc.postgresql.org (jdbc.postgresql.org)... 72.32.157.228, 2001:4800:3e1:1::228\n",
            "Connecting to jdbc.postgresql.org (jdbc.postgresql.org)|72.32.157.228|:443... connected.\n",
            "HTTP request sent, awaiting response... 200 OK\n",
            "Length: 1002883 (979K) [application/java-archive]\n",
            "Saving to: ‘postgresql-42.2.16.jar’\n",
            "\n",
            "postgresql-42.2.16. 100%[===================>] 979.38K  6.04MB/s    in 0.2s    \n",
            "\n",
            "2021-12-13 00:10:43 (6.04 MB/s) - ‘postgresql-42.2.16.jar’ saved [1002883/1002883]\n",
            "\n"
          ]
        }
      ]
    },
    {
      "cell_type": "code",
      "metadata": {
        "id": "MMqDAjVS0KN9"
      },
      "source": [
        "from pyspark.sql import SparkSession\n",
        "spark = SparkSession.builder.appName(\"M16-Amazon-Challenge\").config(\"spark.driver.extraClassPath\",\"/content/postgresql-42.2.16.jar\").getOrCreate()"
      ],
      "execution_count": 3,
      "outputs": []
    },
    {
      "cell_type": "markdown",
      "metadata": {
        "id": "cyBsySGuY-9V"
      },
      "source": [
        "### Load Amazon Data into Spark DataFrame"
      ]
    },
    {
      "cell_type": "code",
      "metadata": {
        "id": "CtCmBhQJY-9Z",
        "colab": {
          "base_uri": "https://localhost:8080/"
        },
        "outputId": "1bf75566-caf0-44c5-ce27-435cadff32d1"
      },
      "source": [
        "from pyspark import SparkFiles\n",
        "url = \"https://s3.amazonaws.com/amazon-reviews-pds/tsv/amazon_reviews_us_Baby_v1_00.tsv.gz\"\n",
        "spark.sparkContext.addFile(url)\n",
        "df = spark.read.option(\"encoding\", \"UTF-8\").csv(SparkFiles.get(\"\"), sep=\"\\t\", header=True, inferSchema=True)\n",
        "df.show()"
      ],
      "execution_count": 4,
      "outputs": [
        {
          "output_type": "stream",
          "name": "stdout",
          "text": [
            "+-----------+-----------+--------------+----------+--------------+--------------------+----------------+-----------+-------------+-----------+----+-----------------+--------------------+--------------------+-----------+\n",
            "|marketplace|customer_id|     review_id|product_id|product_parent|       product_title|product_category|star_rating|helpful_votes|total_votes|vine|verified_purchase|     review_headline|         review_body|review_date|\n",
            "+-----------+-----------+--------------+----------+--------------+--------------------+----------------+-----------+-------------+-----------+----+-----------------+--------------------+--------------------+-----------+\n",
            "|         US|    9970739| R8EWA1OFT84NX|B00GSP5D94|     329991347|Summer Infant Swa...|            Baby|          5|            0|          0|   N|                Y|Great swaddled bl...|Loved these swadd...| 2015-08-31|\n",
            "|         US|   23538442|R2JWY4YRQD4FOP|B00YYDDZGU|     646108902|Pacifier Clip Gir...|            Baby|          5|            0|          0|   N|                N|Too cute and real...|These are adorabl...| 2015-08-31|\n",
            "|         US|    8273344| RL5ESX231LZ0B|B00BUBNZC8|     642922361|Udder Covers - Br...|            Baby|          5|            0|          0|   N|                Y|          Five Stars|          Great gift| 2015-08-31|\n",
            "|         US|   24557753| RRMS9ZWJ2KD08|B00AWLZFTS|     494272733|Gerber Graduates ...|            Baby|          5|            0|          0|   N|                Y|Cute; wash up nic...|These forks are g...| 2015-08-31|\n",
            "|         US|   46263340|R14I3ZG5E6S7YM|B00KM60D3Q|     305813185|Summer Infant Ult...|            Baby|          5|            0|          0|   N|                Y|            Love it!|I wanted somethin...| 2015-08-31|\n",
            "|         US|   24557753|R13EPSFP5DODN5|B00PQMRZG4|     607341708|Summer Infant Kee...|            Baby|          4|            0|          0|   N|                Y|        Rips easily.|Loved with daught...| 2015-08-31|\n",
            "|         US|   33520065| R6RBP4HTE67SY|B005DL5970|     971881542|Natural HE Powder...|            Baby|          5|            0|          0|   N|                Y|Cloth Diaper Dete...|This is a great d...| 2015-08-31|\n",
            "|         US|   20241560|R15B3EU40RSU2W|B00C6D2WL4|      93827401|Dr. Brown's Bottl...|            Baby|          5|            0|          0|   N|                Y|          Five Stars|                good| 2015-08-31|\n",
            "|         US|    9987983| RP4DD53A4ZJA2|B0083973FK|     958629336|Sposie Booster Pa...|            Baby|          5|            0|          0|   N|                Y|          Five Stars|With these my mil...| 2015-08-31|\n",
            "|         US|   52570308|R2C99DJEO4RZ4K|B00RLYG2S2|     147324304|Abiie Beyond Wood...|            Baby|          5|            3|          4|   N|                Y|So far I love thi...|So far I love thi...| 2015-08-31|\n",
            "|         US|    9287389| REV51EW323H8W|B010UX9T5I|     446691106|Lovinglove Baby G...|            Baby|          5|            0|          0|   N|                Y|          Five Stars|           Love them| 2015-08-31|\n",
            "|         US|   32840762|R2GQ3W03WIUZKE|B00VWBY7SC|     271204734|Bugzi Stroller Ho...|            Baby|          5|            0|          0|   N|                Y|Love these hooks ...|Love these hooks ...| 2015-08-31|\n",
            "|         US|    7797182| RTI1YI7K6GE3D|B006ZBPH24|      67911244|Born Free 5 oz. B...|            Baby|          5|            0|          0|   N|                Y|          Five Stars|           very good| 2015-08-31|\n",
            "|         US|   14788115|R3V9C2C0SPSZU6|B00UGV8BEU|     613360092|Baby Bandana Bibs...|            Baby|          5|            0|          0|   N|                Y|            Perfect!|Love these bibs! ...| 2015-08-31|\n",
            "|         US|   37909065|R1LB42XCSSCLV6|B005BIOOYO|     527977399|Flip Stay-Dry Ins...|            Baby|          5|            0|          0|   N|                Y|best inserts for ...|I love these. The...| 2015-08-31|\n",
            "|         US|   15935520|R113NWCW6STTMC|B0071D1AKI|     634188771|Aqueduck The ORIG...|            Baby|          5|            0|          0|   N|                Y|        Very Helpful|This worked exact...| 2015-08-31|\n",
            "|         US|   16308044| RWRN5XK337N41|B00M2F0OYS|     166133791|Motorola Baby Mon...|            Baby|          1|            0|          0|   N|                N|Very Dissapointed...|I am so disappoin...| 2015-08-31|\n",
            "|         US|    8168178| RF4WL3QEP3PVI|B00QCBD5AS|     294351494|Minnie Mouse Delu...|            Baby|          1|            0|          0|   N|                Y|            One Star|Ordered minnie mo...| 2015-08-31|\n",
            "|         US|   23299101|R2DRL5NRODVQ3Z|B00SN6F9NG|       3470998|Rhoost Nail Clipp...|            Baby|          5|            2|          2|   N|                Y|If fits so comfor...|This is an absolu...| 2015-08-31|\n",
            "|         US|   14261025|R3T9B92MDDHKMM|B00J0YTS1E|     488640919|My Natural Owl Mu...|            Baby|          2|            5|          5|   N|                Y|Used to be great....|They changed the ...| 2015-08-31|\n",
            "+-----------+-----------+--------------+----------+--------------+--------------------+----------------+-----------+-------------+-----------+----+-----------------+--------------------+--------------------+-----------+\n",
            "only showing top 20 rows\n",
            "\n"
          ]
        }
      ]
    },
    {
      "cell_type": "markdown",
      "metadata": {
        "id": "2yUSe55VY-9t"
      },
      "source": [
        "### Create DataFrames to match tables"
      ]
    },
    {
      "cell_type": "code",
      "metadata": {
        "id": "C8REmY1aY-9u"
      },
      "source": [
        "from pyspark.sql.functions import to_date\n",
        "# Read in the Review dataset as a DataFrame\n"
      ],
      "execution_count": 5,
      "outputs": []
    },
    {
      "cell_type": "code",
      "metadata": {
        "id": "B0TESUDRY-90",
        "colab": {
          "base_uri": "https://localhost:8080/"
        },
        "outputId": "5128c1d7-5b6d-4179-c330-00cf54a5eed4"
      },
      "source": [
        "# Create the customers_table DataFrame\n",
        "customers_df = df.groupby('customer_id').agg({'customer_id':'count'}).withColumnRenamed(\"count(customer_id)\", \"customer_count\")\n",
        "customers_df.show()"
      ],
      "execution_count": 16,
      "outputs": [
        {
          "output_type": "stream",
          "name": "stdout",
          "text": [
            "+-----------+--------------+\n",
            "|customer_id|customer_count|\n",
            "+-----------+--------------+\n",
            "|   23042837|             2|\n",
            "|   44524872|             1|\n",
            "|   16711087|             1|\n",
            "|   14116630|             3|\n",
            "|   10548283|             1|\n",
            "|   12879980|            15|\n",
            "|   11913481|             1|\n",
            "|   49875798|             3|\n",
            "|   40993003|             1|\n",
            "|    6272214|             3|\n",
            "|     417296|             1|\n",
            "|   36524024|             2|\n",
            "|   16146148|             1|\n",
            "|   43274367|             1|\n",
            "|   38692392|            14|\n",
            "|   24359722|             1|\n",
            "|   45450058|             5|\n",
            "|    1960118|             1|\n",
            "|   36980552|             1|\n",
            "|   10200363|             2|\n",
            "+-----------+--------------+\n",
            "only showing top 20 rows\n",
            "\n"
          ]
        }
      ]
    },
    {
      "cell_type": "code",
      "metadata": {
        "id": "4FwXA6UvY-96",
        "colab": {
          "base_uri": "https://localhost:8080/"
        },
        "outputId": "309c94db-cad5-4b52-817e-87dfef5aa2fc"
      },
      "source": [
        "# Create the products_table DataFrame and drop duplicates. \n",
        "products_df = df.select(['product_id','product_title']).drop_duplicates(subset=['product_id'])\n",
        "products_df.show()"
      ],
      "execution_count": 19,
      "outputs": [
        {
          "output_type": "stream",
          "name": "stdout",
          "text": [
            "+----------+--------------------+\n",
            "|product_id|       product_title|\n",
            "+----------+--------------------+\n",
            "|0188399518|Planetwise Flanne...|\n",
            "|0310986524|God Bless Baby Re...|\n",
            "|0448437104|Dick and Jane Rea...|\n",
            "|0448448564|The Ultimate Dick...|\n",
            "|0615447279|Stop Pacifier Suc...|\n",
            "|0670062049|5 Pink Gumdrops +...|\n",
            "|0671493183|Doggies (Boynton ...|\n",
            "|070539462X|C.R. GIBSON ABC &...|\n",
            "|0741631016|Twelve Piece Baby...|\n",
            "|0857579940|Gruffalos Child S...|\n",
            "|097293751X|Baby Tracker® - D...|\n",
            "|0977905497|Potty Training Ch...|\n",
            "|0980027594|Nature's Lullabie...|\n",
            "|0983676534|The Letterheads -...|\n",
            "|098955791X|The Best Paper Ai...|\n",
            "|1059879875|Modern House Find...|\n",
            "|141279000X|Grandma's Little ...|\n",
            "|1432109529|\"My First Year\" M...|\n",
            "|1442498145|Chicka Chicka Abc...|\n",
            "|1450739865|Father Football G...|\n",
            "+----------+--------------------+\n",
            "only showing top 20 rows\n",
            "\n"
          ]
        }
      ]
    },
    {
      "cell_type": "code",
      "metadata": {
        "id": "MkqyCuNQY-9-",
        "colab": {
          "base_uri": "https://localhost:8080/"
        },
        "outputId": "4d72bbc7-a7b9-46cc-f040-e03ccc01b1d2"
      },
      "source": [
        "# Create the review_id_table DataFrame. \n",
        "# Convert the 'review_date' column to a date datatype with to_date(\"review_date\", 'yyyy-MM-dd').alias(\"review_date\")\n",
        "review_id_df = df.select(['review_id','customer_id','product_id','product_parent', to_date(\"review_date\", 'yyyy-MM-dd').alias(\"review_date\")])\n",
        "review_id_df.show()"
      ],
      "execution_count": 20,
      "outputs": [
        {
          "output_type": "stream",
          "name": "stdout",
          "text": [
            "+--------------+-----------+----------+--------------+-----------+\n",
            "|     review_id|customer_id|product_id|product_parent|review_date|\n",
            "+--------------+-----------+----------+--------------+-----------+\n",
            "| R8EWA1OFT84NX|    9970739|B00GSP5D94|     329991347| 2015-08-31|\n",
            "|R2JWY4YRQD4FOP|   23538442|B00YYDDZGU|     646108902| 2015-08-31|\n",
            "| RL5ESX231LZ0B|    8273344|B00BUBNZC8|     642922361| 2015-08-31|\n",
            "| RRMS9ZWJ2KD08|   24557753|B00AWLZFTS|     494272733| 2015-08-31|\n",
            "|R14I3ZG5E6S7YM|   46263340|B00KM60D3Q|     305813185| 2015-08-31|\n",
            "|R13EPSFP5DODN5|   24557753|B00PQMRZG4|     607341708| 2015-08-31|\n",
            "| R6RBP4HTE67SY|   33520065|B005DL5970|     971881542| 2015-08-31|\n",
            "|R15B3EU40RSU2W|   20241560|B00C6D2WL4|      93827401| 2015-08-31|\n",
            "| RP4DD53A4ZJA2|    9987983|B0083973FK|     958629336| 2015-08-31|\n",
            "|R2C99DJEO4RZ4K|   52570308|B00RLYG2S2|     147324304| 2015-08-31|\n",
            "| REV51EW323H8W|    9287389|B010UX9T5I|     446691106| 2015-08-31|\n",
            "|R2GQ3W03WIUZKE|   32840762|B00VWBY7SC|     271204734| 2015-08-31|\n",
            "| RTI1YI7K6GE3D|    7797182|B006ZBPH24|      67911244| 2015-08-31|\n",
            "|R3V9C2C0SPSZU6|   14788115|B00UGV8BEU|     613360092| 2015-08-31|\n",
            "|R1LB42XCSSCLV6|   37909065|B005BIOOYO|     527977399| 2015-08-31|\n",
            "|R113NWCW6STTMC|   15935520|B0071D1AKI|     634188771| 2015-08-31|\n",
            "| RWRN5XK337N41|   16308044|B00M2F0OYS|     166133791| 2015-08-31|\n",
            "| RF4WL3QEP3PVI|    8168178|B00QCBD5AS|     294351494| 2015-08-31|\n",
            "|R2DRL5NRODVQ3Z|   23299101|B00SN6F9NG|       3470998| 2015-08-31|\n",
            "|R3T9B92MDDHKMM|   14261025|B00J0YTS1E|     488640919| 2015-08-31|\n",
            "+--------------+-----------+----------+--------------+-----------+\n",
            "only showing top 20 rows\n",
            "\n"
          ]
        }
      ]
    },
    {
      "cell_type": "code",
      "metadata": {
        "id": "lzMmkdKmY--D",
        "colab": {
          "base_uri": "https://localhost:8080/"
        },
        "outputId": "f5ee6362-5e44-4178-f637-6e932dae9d6d"
      },
      "source": [
        "# Create the vine_table. DataFrame\n",
        "vine_df = df.select(['review_id','star_rating','helpful_votes','total_votes','vine','verified_purchase'])\n",
        "vine_df .show()"
      ],
      "execution_count": 22,
      "outputs": [
        {
          "output_type": "stream",
          "name": "stdout",
          "text": [
            "+--------------+-----------+-------------+-----------+----+-----------------+\n",
            "|     review_id|star_rating|helpful_votes|total_votes|vine|verified_purchase|\n",
            "+--------------+-----------+-------------+-----------+----+-----------------+\n",
            "| R8EWA1OFT84NX|          5|            0|          0|   N|                Y|\n",
            "|R2JWY4YRQD4FOP|          5|            0|          0|   N|                N|\n",
            "| RL5ESX231LZ0B|          5|            0|          0|   N|                Y|\n",
            "| RRMS9ZWJ2KD08|          5|            0|          0|   N|                Y|\n",
            "|R14I3ZG5E6S7YM|          5|            0|          0|   N|                Y|\n",
            "|R13EPSFP5DODN5|          4|            0|          0|   N|                Y|\n",
            "| R6RBP4HTE67SY|          5|            0|          0|   N|                Y|\n",
            "|R15B3EU40RSU2W|          5|            0|          0|   N|                Y|\n",
            "| RP4DD53A4ZJA2|          5|            0|          0|   N|                Y|\n",
            "|R2C99DJEO4RZ4K|          5|            3|          4|   N|                Y|\n",
            "| REV51EW323H8W|          5|            0|          0|   N|                Y|\n",
            "|R2GQ3W03WIUZKE|          5|            0|          0|   N|                Y|\n",
            "| RTI1YI7K6GE3D|          5|            0|          0|   N|                Y|\n",
            "|R3V9C2C0SPSZU6|          5|            0|          0|   N|                Y|\n",
            "|R1LB42XCSSCLV6|          5|            0|          0|   N|                Y|\n",
            "|R113NWCW6STTMC|          5|            0|          0|   N|                Y|\n",
            "| RWRN5XK337N41|          1|            0|          0|   N|                N|\n",
            "| RF4WL3QEP3PVI|          1|            0|          0|   N|                Y|\n",
            "|R2DRL5NRODVQ3Z|          5|            2|          2|   N|                Y|\n",
            "|R3T9B92MDDHKMM|          2|            5|          5|   N|                Y|\n",
            "+--------------+-----------+-------------+-----------+----+-----------------+\n",
            "only showing top 20 rows\n",
            "\n"
          ]
        }
      ]
    },
    {
      "cell_type": "markdown",
      "metadata": {
        "id": "jITZhLkmY--J"
      },
      "source": [
        "### Connect to the AWS RDS instance and write each DataFrame to its table. "
      ]
    },
    {
      "cell_type": "code",
      "metadata": {
        "id": "7jiUvs1aY--L"
      },
      "source": [
        "# Configure settings for RDS\n",
        "mode = \"append\"\n",
        "jdbc_url=\"jdbc:postgresql://dataviz.cgq2ewzuuqs1.us-east-2.rds.amazonaws.com:5432/postgres\"\n",
        "#PASSWORD REMOVE FOR SAFETY REASONS\n",
        "config = {\"user\":\"postgres\", \n",
        "          \"password\": \"-------\", \n",
        "          \"driver\":\"org.postgresql.Driver\"}"
      ],
      "execution_count": 23,
      "outputs": []
    },
    {
      "cell_type": "code",
      "metadata": {
        "id": "T2zgZ-aKY--Q"
      },
      "source": [
        "# Write review_id_df to table in RDS\n",
        "review_id_df.write.jdbc(url=jdbc_url, table='review_id_table', mode=mode, properties=config)"
      ],
      "execution_count": null,
      "outputs": []
    },
    {
      "cell_type": "code",
      "metadata": {
        "id": "1m3yzn-LY--U"
      },
      "source": [
        "# Write products_df to table in RDS\n",
        "# about 3 min\n",
        "products_df.write.jdbc(url=jdbc_url, table='products_table', mode=mode, properties=config)"
      ],
      "execution_count": 26,
      "outputs": []
    },
    {
      "cell_type": "code",
      "metadata": {
        "id": "KbXri15fY--Z"
      },
      "source": [
        "# Write customers_df to table in RDS\n",
        "# 5 min 14 s\n",
        "customers_df.write.jdbc(url=jdbc_url, table='customers_table', mode=mode, properties=config)"
      ],
      "execution_count": 27,
      "outputs": []
    },
    {
      "cell_type": "code",
      "metadata": {
        "id": "XdQknSHLY--e"
      },
      "source": [
        "# Write vine_df to table in RDS\n",
        "# 11 minutes\n",
        "vine_df.write.jdbc(url=jdbc_url, table='vine_table', mode=mode, properties=config)"
      ],
      "execution_count": 28,
      "outputs": []
    },
    {
      "cell_type": "code",
      "metadata": {
        "id": "Exuo6ebUsCqW",
        "colab": {
          "base_uri": "https://localhost:8080/"
        },
        "outputId": "f128e799-453d-4e5b-da6f-a80e85703fc5"
      },
      "source": [
        "###################################################################\n",
        "#DELIVERABLE 2\n",
        "\n",
        "#Filter 1:  total_votes >= 20\n",
        "df_Reviews_Filter1 = vine_df[vine_df['total_votes'] >= 20]\n",
        "df_Reviews_Filter1.show()\n"
      ],
      "execution_count": 36,
      "outputs": [
        {
          "output_type": "stream",
          "name": "stdout",
          "text": [
            "+--------------+-----------+-------------+-----------+----+-----------------+\n",
            "|     review_id|star_rating|helpful_votes|total_votes|vine|verified_purchase|\n",
            "+--------------+-----------+-------------+-----------+----+-----------------+\n",
            "| ROI00QN8IS49I|          5|           83|         91|   N|                N|\n",
            "|R13C5INE1RTZP6|          2|           26|         26|   N|                Y|\n",
            "| RXVMMXCL67MZN|          4|          378|        383|   N|                Y|\n",
            "|R33JJQWAUYBKD3|          5|          270|        280|   N|                Y|\n",
            "|R3N0XV9267NOXV|          5|           41|         47|   Y|                N|\n",
            "|R31HQD6YXSQV1W|          3|           40|         48|   N|                Y|\n",
            "|R33LQSF958O6K8|          5|           39|         41|   N|                Y|\n",
            "|R3OIDSQJ84W7J1|          5|           21|         24|   N|                N|\n",
            "|R3UUR313K5VVTL|          1|            1|         24|   N|                Y|\n",
            "| RODE8K12S7148|          5|           41|         45|   N|                Y|\n",
            "|R2QZFYFUKP22SP|          5|           33|         37|   N|                Y|\n",
            "| RFON10GAZKDL3|          3|           16|         20|   N|                Y|\n",
            "|R2UXKAUFMPE0PJ|          1|           29|         29|   N|                N|\n",
            "|R20YYYGIRVB7F1|          1|           32|         41|   N|                N|\n",
            "|R36065K853ACRA|          3|           28|         34|   N|                Y|\n",
            "| RBS6RYHXL83L8|          5|           49|         57|   N|                Y|\n",
            "|R2D5JAVXATJOQB|          4|           45|         48|   N|                Y|\n",
            "|R1SUS9Y51N3QO8|          1|           42|         46|   N|                N|\n",
            "|R3DKDS7674IU4Z|          5|           29|         31|   N|                N|\n",
            "|R3VER1GSR74AHB|          4|           38|         39|   N|                Y|\n",
            "+--------------+-----------+-------------+-----------+----+-----------------+\n",
            "only showing top 20 rows\n",
            "\n"
          ]
        }
      ]
    },
    {
      "cell_type": "code",
      "source": [
        "#Filter 2: From previous dataframe divide helpful_votes divided by total_votes > 50%\n",
        "df_Reviews_Filter2 = df_Reviews_Filter1.withColumn('hel/total',df_Reviews_Filter1['helpful_votes']/df_Reviews_Filter1['total_votes'])\n",
        "df_Reviews_Filter2.show()\n"
      ],
      "metadata": {
        "colab": {
          "base_uri": "https://localhost:8080/"
        },
        "id": "ktfLZf31aXbe",
        "outputId": "513984a3-ddcc-4d93-d9ac-3dc955039b68"
      },
      "execution_count": 42,
      "outputs": [
        {
          "output_type": "stream",
          "name": "stdout",
          "text": [
            "+--------------+-----------+-------------+-----------+----+-----------------+--------------------+\n",
            "|     review_id|star_rating|helpful_votes|total_votes|vine|verified_purchase|           hel/total|\n",
            "+--------------+-----------+-------------+-----------+----+-----------------+--------------------+\n",
            "| ROI00QN8IS49I|          5|           83|         91|   N|                N|  0.9120879120879121|\n",
            "|R13C5INE1RTZP6|          2|           26|         26|   N|                Y|                 1.0|\n",
            "| RXVMMXCL67MZN|          4|          378|        383|   N|                Y|  0.9869451697127938|\n",
            "|R33JJQWAUYBKD3|          5|          270|        280|   N|                Y|  0.9642857142857143|\n",
            "|R3N0XV9267NOXV|          5|           41|         47|   Y|                N|  0.8723404255319149|\n",
            "|R31HQD6YXSQV1W|          3|           40|         48|   N|                Y|  0.8333333333333334|\n",
            "|R33LQSF958O6K8|          5|           39|         41|   N|                Y|  0.9512195121951219|\n",
            "|R3OIDSQJ84W7J1|          5|           21|         24|   N|                N|               0.875|\n",
            "|R3UUR313K5VVTL|          1|            1|         24|   N|                Y|0.041666666666666664|\n",
            "| RODE8K12S7148|          5|           41|         45|   N|                Y|  0.9111111111111111|\n",
            "|R2QZFYFUKP22SP|          5|           33|         37|   N|                Y|  0.8918918918918919|\n",
            "| RFON10GAZKDL3|          3|           16|         20|   N|                Y|                 0.8|\n",
            "|R2UXKAUFMPE0PJ|          1|           29|         29|   N|                N|                 1.0|\n",
            "|R20YYYGIRVB7F1|          1|           32|         41|   N|                N|  0.7804878048780488|\n",
            "|R36065K853ACRA|          3|           28|         34|   N|                Y|  0.8235294117647058|\n",
            "| RBS6RYHXL83L8|          5|           49|         57|   N|                Y|  0.8596491228070176|\n",
            "|R2D5JAVXATJOQB|          4|           45|         48|   N|                Y|              0.9375|\n",
            "|R1SUS9Y51N3QO8|          1|           42|         46|   N|                N|  0.9130434782608695|\n",
            "|R3DKDS7674IU4Z|          5|           29|         31|   N|                N|  0.9354838709677419|\n",
            "|R3VER1GSR74AHB|          4|           38|         39|   N|                Y|  0.9743589743589743|\n",
            "+--------------+-----------+-------------+-----------+----+-----------------+--------------------+\n",
            "only showing top 20 rows\n",
            "\n"
          ]
        }
      ]
    },
    {
      "cell_type": "code",
      "source": [
        "df_Reviews_Filter2 = df_Reviews_Filter2[df_Reviews_Filter2 ['hel/total']>=0.5]\n",
        "df_Reviews_Filter2.show() "
      ],
      "metadata": {
        "colab": {
          "base_uri": "https://localhost:8080/"
        },
        "id": "1SitJQXjc2AQ",
        "outputId": "525889f5-2ef3-49ba-b96f-ddcef78ec72e"
      },
      "execution_count": 44,
      "outputs": [
        {
          "output_type": "stream",
          "name": "stdout",
          "text": [
            "+--------------+-----------+-------------+-----------+----+-----------------+------------------+\n",
            "|     review_id|star_rating|helpful_votes|total_votes|vine|verified_purchase|         hel/total|\n",
            "+--------------+-----------+-------------+-----------+----+-----------------+------------------+\n",
            "| ROI00QN8IS49I|          5|           83|         91|   N|                N|0.9120879120879121|\n",
            "|R13C5INE1RTZP6|          2|           26|         26|   N|                Y|               1.0|\n",
            "| RXVMMXCL67MZN|          4|          378|        383|   N|                Y|0.9869451697127938|\n",
            "|R33JJQWAUYBKD3|          5|          270|        280|   N|                Y|0.9642857142857143|\n",
            "|R3N0XV9267NOXV|          5|           41|         47|   Y|                N|0.8723404255319149|\n",
            "|R31HQD6YXSQV1W|          3|           40|         48|   N|                Y|0.8333333333333334|\n",
            "|R33LQSF958O6K8|          5|           39|         41|   N|                Y|0.9512195121951219|\n",
            "|R3OIDSQJ84W7J1|          5|           21|         24|   N|                N|             0.875|\n",
            "| RODE8K12S7148|          5|           41|         45|   N|                Y|0.9111111111111111|\n",
            "|R2QZFYFUKP22SP|          5|           33|         37|   N|                Y|0.8918918918918919|\n",
            "| RFON10GAZKDL3|          3|           16|         20|   N|                Y|               0.8|\n",
            "|R2UXKAUFMPE0PJ|          1|           29|         29|   N|                N|               1.0|\n",
            "|R20YYYGIRVB7F1|          1|           32|         41|   N|                N|0.7804878048780488|\n",
            "|R36065K853ACRA|          3|           28|         34|   N|                Y|0.8235294117647058|\n",
            "| RBS6RYHXL83L8|          5|           49|         57|   N|                Y|0.8596491228070176|\n",
            "|R2D5JAVXATJOQB|          4|           45|         48|   N|                Y|            0.9375|\n",
            "|R1SUS9Y51N3QO8|          1|           42|         46|   N|                N|0.9130434782608695|\n",
            "|R3DKDS7674IU4Z|          5|           29|         31|   N|                N|0.9354838709677419|\n",
            "|R3VER1GSR74AHB|          4|           38|         39|   N|                Y|0.9743589743589743|\n",
            "| R4KKILPJRQ2J5|          1|           12|         20|   N|                Y|               0.6|\n",
            "+--------------+-----------+-------------+-----------+----+-----------------+------------------+\n",
            "only showing top 20 rows\n",
            "\n"
          ]
        }
      ]
    },
    {
      "cell_type": "code",
      "source": [
        "#Filter 3: Create a new data frame with the review written under the Vine program \n",
        "df_Reviews_Filter3 = df_Reviews_Filter2[df_Reviews_Filter2['vine']=='Y']\n",
        "df_Reviews_Filter3.show()"
      ],
      "metadata": {
        "colab": {
          "base_uri": "https://localhost:8080/"
        },
        "id": "h40t9eQzdHDr",
        "outputId": "d29362e6-a0ec-4b68-db07-7112adfeefa8"
      },
      "execution_count": 45,
      "outputs": [
        {
          "output_type": "stream",
          "name": "stdout",
          "text": [
            "+--------------+-----------+-------------+-----------+----+-----------------+------------------+\n",
            "|     review_id|star_rating|helpful_votes|total_votes|vine|verified_purchase|         hel/total|\n",
            "+--------------+-----------+-------------+-----------+----+-----------------+------------------+\n",
            "|R3N0XV9267NOXV|          5|           41|         47|   Y|                N|0.8723404255319149|\n",
            "| RSA6JQ346JZHZ|          5|           55|         64|   Y|                Y|          0.859375|\n",
            "|R1FXF4HRMCLG4C|          5|           69|         84|   Y|                N|0.8214285714285714|\n",
            "| RCTBWC3II42MG|          4|          113|        117|   Y|                N|0.9658119658119658|\n",
            "| RTMQM2CQ1XIZ0|          5|           21|         25|   Y|                N|              0.84|\n",
            "|R2CBJLCKQ612KU|          4|           27|         35|   Y|                N|0.7714285714285715|\n",
            "|R322QDGO4AV2B5|          5|           55|         65|   Y|                N|0.8461538461538461|\n",
            "| R2S7CXRDGQ6EE|          4|           36|         39|   Y|                N|0.9230769230769231|\n",
            "|R3ECMXK0SGR1VV|          5|           59|         64|   Y|                N|          0.921875|\n",
            "|R3D55CPJ6J6Z78|          4|           15|         20|   Y|                N|              0.75|\n",
            "|R1Y9OYIUCP3WD2|          4|           20|         20|   Y|                N|               1.0|\n",
            "| RT8AV0IB2PGHH|          4|          108|        132|   Y|                N|0.8181818181818182|\n",
            "|R2RLHJRJD9B0NX|          3|           44|         47|   Y|                N|0.9361702127659575|\n",
            "| RAPD7IX0LPZ10|          4|           36|         37|   Y|                N| 0.972972972972973|\n",
            "|R37QPCBNR07PPR|          1|           22|         27|   Y|                N|0.8148148148148148|\n",
            "|R3BRFPK8N59XPY|          5|          364|        395|   Y|                N|0.9215189873417722|\n",
            "|R1WE59I775L7L9|          4|           31|         33|   Y|                N|0.9393939393939394|\n",
            "| RO8IGQJV1PKCJ|          5|           78|         84|   Y|                N|0.9285714285714286|\n",
            "| RWZDJT9MQP6A4|          5|           86|         97|   Y|                N|0.8865979381443299|\n",
            "|R2VDXEVKFSJU36|          5|           20|         22|   Y|                N|0.9090909090909091|\n",
            "+--------------+-----------+-------------+-----------+----+-----------------+------------------+\n",
            "only showing top 20 rows\n",
            "\n"
          ]
        }
      ]
    },
    {
      "cell_type": "code",
      "source": [
        "#Filter 4: Create a new data frame with review written out of the Vine program \n",
        "df_Reviews_Filter4 = df_Reviews_Filter2[df_Reviews_Filter2['vine']=='N']\n",
        "df_Reviews_Filter4.show()"
      ],
      "metadata": {
        "colab": {
          "base_uri": "https://localhost:8080/"
        },
        "id": "tYyTcuXCdrQ1",
        "outputId": "ae25c3fa-f572-4278-b183-25d8b74b14c6"
      },
      "execution_count": 46,
      "outputs": [
        {
          "output_type": "stream",
          "name": "stdout",
          "text": [
            "+--------------+-----------+-------------+-----------+----+-----------------+------------------+\n",
            "|     review_id|star_rating|helpful_votes|total_votes|vine|verified_purchase|         hel/total|\n",
            "+--------------+-----------+-------------+-----------+----+-----------------+------------------+\n",
            "| ROI00QN8IS49I|          5|           83|         91|   N|                N|0.9120879120879121|\n",
            "|R13C5INE1RTZP6|          2|           26|         26|   N|                Y|               1.0|\n",
            "| RXVMMXCL67MZN|          4|          378|        383|   N|                Y|0.9869451697127938|\n",
            "|R33JJQWAUYBKD3|          5|          270|        280|   N|                Y|0.9642857142857143|\n",
            "|R31HQD6YXSQV1W|          3|           40|         48|   N|                Y|0.8333333333333334|\n",
            "|R33LQSF958O6K8|          5|           39|         41|   N|                Y|0.9512195121951219|\n",
            "|R3OIDSQJ84W7J1|          5|           21|         24|   N|                N|             0.875|\n",
            "| RODE8K12S7148|          5|           41|         45|   N|                Y|0.9111111111111111|\n",
            "|R2QZFYFUKP22SP|          5|           33|         37|   N|                Y|0.8918918918918919|\n",
            "| RFON10GAZKDL3|          3|           16|         20|   N|                Y|               0.8|\n",
            "|R2UXKAUFMPE0PJ|          1|           29|         29|   N|                N|               1.0|\n",
            "|R20YYYGIRVB7F1|          1|           32|         41|   N|                N|0.7804878048780488|\n",
            "|R36065K853ACRA|          3|           28|         34|   N|                Y|0.8235294117647058|\n",
            "| RBS6RYHXL83L8|          5|           49|         57|   N|                Y|0.8596491228070176|\n",
            "|R2D5JAVXATJOQB|          4|           45|         48|   N|                Y|            0.9375|\n",
            "|R1SUS9Y51N3QO8|          1|           42|         46|   N|                N|0.9130434782608695|\n",
            "|R3DKDS7674IU4Z|          5|           29|         31|   N|                N|0.9354838709677419|\n",
            "|R3VER1GSR74AHB|          4|           38|         39|   N|                Y|0.9743589743589743|\n",
            "| R4KKILPJRQ2J5|          1|           12|         20|   N|                Y|               0.6|\n",
            "| RE1XO71W5US5S|          1|           28|         30|   N|                Y|0.9333333333333333|\n",
            "+--------------+-----------+-------------+-----------+----+-----------------+------------------+\n",
            "only showing top 20 rows\n",
            "\n"
          ]
        }
      ]
    },
    {
      "cell_type": "code",
      "source": [
        "#Filter 5 : VINE PROGRAM, How many reviews, 5 start and percentage of 5 start\n",
        "total_rev_VINE_Y = df_Reviews_Filter3.count()\n",
        "total_5_VINE_Y = df_Reviews_Filter3[(df_Reviews_Filter3['star_rating']==5)].count()\n",
        "print(\"VINE PROGRAM\")\n",
        "print(\"The total number of review is: %f\" %total_rev_VINE_Y)\n",
        "print(\"The total number of 5 start review is: %f\" %total_5_VINE_Y)\n",
        "print(\"Percentage of 5 start review: %f\" %(total_5_VINE_Y*100/total_rev_VINE_Y))"
      ],
      "metadata": {
        "colab": {
          "base_uri": "https://localhost:8080/"
        },
        "id": "pD87dE-HeVW6",
        "outputId": "bad30d77-d84e-4be2-dac1-a231fcab2cba"
      },
      "execution_count": 56,
      "outputs": [
        {
          "output_type": "stream",
          "name": "stdout",
          "text": [
            "VINE PROGRAM\n",
            "The total number of review is: 463.000000\n",
            "The total number of 5 start review is: 202.000000\n",
            "Percentage of 5 start review: 43.628510\n"
          ]
        }
      ]
    },
    {
      "cell_type": "code",
      "source": [
        "#Filter 6 : NO VINE PROGRAM, How many reviews, 5 start and percentage of 5 start\n",
        "total_rev_VINE_N = df_Reviews_Filter4.count()\n",
        "total_5_VINE_N = df_Reviews_Filter4[(df_Reviews_Filter4['star_rating']==5)].count()\n",
        "print(\"NO VINE PROGRAM\")\n",
        "print(\"The total number of review is: %f\" %total_rev_VINE_N)\n",
        "print(\"The total number of 5 start review is: %f\" %total_5_VINE_N)\n",
        "print(\"Percentage of 5 start review: %f\" %(total_5_VINE_N*100/total_rev_VINE_N))"
      ],
      "metadata": {
        "colab": {
          "base_uri": "https://localhost:8080/"
        },
        "id": "AW-ELUBBi4J9",
        "outputId": "b0a1045d-1c20-4d8d-84af-c312410518d5"
      },
      "execution_count": 57,
      "outputs": [
        {
          "output_type": "stream",
          "name": "stdout",
          "text": [
            "NO VINE PROGRAM\n",
            "The total number of review is: 25094.000000\n",
            "The total number of 5 start review is: 12033.000000\n",
            "Percentage of 5 start review: 47.951702\n"
          ]
        }
      ]
    }
  ]
}